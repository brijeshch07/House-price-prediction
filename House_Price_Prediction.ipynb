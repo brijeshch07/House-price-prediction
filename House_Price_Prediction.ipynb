{
 "cells": [
  {
   "cell_type": "code",
   "execution_count": 1,
   "metadata": {},
   "outputs": [],
   "source": [
    "import pandas as pd\n",
    "import numpy as np\n",
    "import seaborn as sns\n",
    "import matplotlib.pyplot as plt\n",
    "%matplotlib inline"
   ]
  },
  {
   "cell_type": "code",
   "execution_count": 2,
   "metadata": {},
   "outputs": [
    {
     "data": {
      "text/html": [
       "<div>\n",
       "<style scoped>\n",
       "    .dataframe tbody tr th:only-of-type {\n",
       "        vertical-align: middle;\n",
       "    }\n",
       "\n",
       "    .dataframe tbody tr th {\n",
       "        vertical-align: top;\n",
       "    }\n",
       "\n",
       "    .dataframe thead th {\n",
       "        text-align: right;\n",
       "    }\n",
       "</style>\n",
       "<table border=\"1\" class=\"dataframe\">\n",
       "  <thead>\n",
       "    <tr style=\"text-align: right;\">\n",
       "      <th></th>\n",
       "      <th>POSTED_BY</th>\n",
       "      <th>UNDER_CONSTRUCTION</th>\n",
       "      <th>RERA</th>\n",
       "      <th>BHK_NO.</th>\n",
       "      <th>BHK_OR_RK</th>\n",
       "      <th>SQUARE_FT</th>\n",
       "      <th>READY_TO_MOVE</th>\n",
       "      <th>RESALE</th>\n",
       "      <th>ADDRESS</th>\n",
       "      <th>LONGITUDE</th>\n",
       "      <th>LATITUDE</th>\n",
       "      <th>TARGET(PRICE_IN_LACS)</th>\n",
       "    </tr>\n",
       "  </thead>\n",
       "  <tbody>\n",
       "    <tr>\n",
       "      <th>0</th>\n",
       "      <td>Owner</td>\n",
       "      <td>0</td>\n",
       "      <td>0</td>\n",
       "      <td>2</td>\n",
       "      <td>BHK</td>\n",
       "      <td>1300.236407</td>\n",
       "      <td>1</td>\n",
       "      <td>1</td>\n",
       "      <td>Ksfc Layout,Bangalore</td>\n",
       "      <td>12.969910</td>\n",
       "      <td>77.597960</td>\n",
       "      <td>55.0</td>\n",
       "    </tr>\n",
       "    <tr>\n",
       "      <th>1</th>\n",
       "      <td>Dealer</td>\n",
       "      <td>0</td>\n",
       "      <td>0</td>\n",
       "      <td>2</td>\n",
       "      <td>BHK</td>\n",
       "      <td>1275.000000</td>\n",
       "      <td>1</td>\n",
       "      <td>1</td>\n",
       "      <td>Vishweshwara Nagar,Mysore</td>\n",
       "      <td>12.274538</td>\n",
       "      <td>76.644605</td>\n",
       "      <td>51.0</td>\n",
       "    </tr>\n",
       "    <tr>\n",
       "      <th>2</th>\n",
       "      <td>Owner</td>\n",
       "      <td>0</td>\n",
       "      <td>0</td>\n",
       "      <td>2</td>\n",
       "      <td>BHK</td>\n",
       "      <td>933.159722</td>\n",
       "      <td>1</td>\n",
       "      <td>1</td>\n",
       "      <td>Jigani,Bangalore</td>\n",
       "      <td>12.778033</td>\n",
       "      <td>77.632191</td>\n",
       "      <td>43.0</td>\n",
       "    </tr>\n",
       "    <tr>\n",
       "      <th>3</th>\n",
       "      <td>Owner</td>\n",
       "      <td>0</td>\n",
       "      <td>1</td>\n",
       "      <td>2</td>\n",
       "      <td>BHK</td>\n",
       "      <td>929.921143</td>\n",
       "      <td>1</td>\n",
       "      <td>1</td>\n",
       "      <td>Sector-1 Vaishali,Ghaziabad</td>\n",
       "      <td>28.642300</td>\n",
       "      <td>77.344500</td>\n",
       "      <td>62.5</td>\n",
       "    </tr>\n",
       "    <tr>\n",
       "      <th>4</th>\n",
       "      <td>Dealer</td>\n",
       "      <td>1</td>\n",
       "      <td>0</td>\n",
       "      <td>2</td>\n",
       "      <td>BHK</td>\n",
       "      <td>999.009247</td>\n",
       "      <td>0</td>\n",
       "      <td>1</td>\n",
       "      <td>New Town,Kolkata</td>\n",
       "      <td>22.592200</td>\n",
       "      <td>88.484911</td>\n",
       "      <td>60.5</td>\n",
       "    </tr>\n",
       "  </tbody>\n",
       "</table>\n",
       "</div>"
      ],
      "text/plain": [
       "  POSTED_BY  UNDER_CONSTRUCTION  RERA  BHK_NO. BHK_OR_RK    SQUARE_FT  \\\n",
       "0     Owner                   0     0        2       BHK  1300.236407   \n",
       "1    Dealer                   0     0        2       BHK  1275.000000   \n",
       "2     Owner                   0     0        2       BHK   933.159722   \n",
       "3     Owner                   0     1        2       BHK   929.921143   \n",
       "4    Dealer                   1     0        2       BHK   999.009247   \n",
       "\n",
       "   READY_TO_MOVE  RESALE                      ADDRESS  LONGITUDE   LATITUDE  \\\n",
       "0              1       1        Ksfc Layout,Bangalore  12.969910  77.597960   \n",
       "1              1       1    Vishweshwara Nagar,Mysore  12.274538  76.644605   \n",
       "2              1       1             Jigani,Bangalore  12.778033  77.632191   \n",
       "3              1       1  Sector-1 Vaishali,Ghaziabad  28.642300  77.344500   \n",
       "4              0       1             New Town,Kolkata  22.592200  88.484911   \n",
       "\n",
       "   TARGET(PRICE_IN_LACS)  \n",
       "0                   55.0  \n",
       "1                   51.0  \n",
       "2                   43.0  \n",
       "3                   62.5  \n",
       "4                   60.5  "
      ]
     },
     "execution_count": 2,
     "metadata": {},
     "output_type": "execute_result"
    }
   ],
   "source": [
    "df = pd.read_csv(\"E:\\\\brijesh\\\\New folder\\\\train.csv\")\n",
    "df.head()"
   ]
  },
  {
   "cell_type": "code",
   "execution_count": 3,
   "metadata": {},
   "outputs": [
    {
     "data": {
      "text/plain": [
       "(29451, 12)"
      ]
     },
     "execution_count": 3,
     "metadata": {},
     "output_type": "execute_result"
    }
   ],
   "source": [
    "df.shape"
   ]
  },
  {
   "cell_type": "code",
   "execution_count": 4,
   "metadata": {},
   "outputs": [
    {
     "data": {
      "text/html": [
       "<div>\n",
       "<style scoped>\n",
       "    .dataframe tbody tr th:only-of-type {\n",
       "        vertical-align: middle;\n",
       "    }\n",
       "\n",
       "    .dataframe tbody tr th {\n",
       "        vertical-align: top;\n",
       "    }\n",
       "\n",
       "    .dataframe thead th {\n",
       "        text-align: right;\n",
       "    }\n",
       "</style>\n",
       "<table border=\"1\" class=\"dataframe\">\n",
       "  <thead>\n",
       "    <tr style=\"text-align: right;\">\n",
       "      <th></th>\n",
       "      <th>BHK_NO.</th>\n",
       "      <th>BHK_OR_RK</th>\n",
       "      <th>SQUARE_FT</th>\n",
       "      <th>ADDRESS</th>\n",
       "      <th>TARGET(PRICE_IN_LACS)</th>\n",
       "    </tr>\n",
       "  </thead>\n",
       "  <tbody>\n",
       "    <tr>\n",
       "      <th>0</th>\n",
       "      <td>2</td>\n",
       "      <td>BHK</td>\n",
       "      <td>1300.236407</td>\n",
       "      <td>Ksfc Layout,Bangalore</td>\n",
       "      <td>55.0</td>\n",
       "    </tr>\n",
       "    <tr>\n",
       "      <th>1</th>\n",
       "      <td>2</td>\n",
       "      <td>BHK</td>\n",
       "      <td>1275.000000</td>\n",
       "      <td>Vishweshwara Nagar,Mysore</td>\n",
       "      <td>51.0</td>\n",
       "    </tr>\n",
       "    <tr>\n",
       "      <th>2</th>\n",
       "      <td>2</td>\n",
       "      <td>BHK</td>\n",
       "      <td>933.159722</td>\n",
       "      <td>Jigani,Bangalore</td>\n",
       "      <td>43.0</td>\n",
       "    </tr>\n",
       "    <tr>\n",
       "      <th>3</th>\n",
       "      <td>2</td>\n",
       "      <td>BHK</td>\n",
       "      <td>929.921143</td>\n",
       "      <td>Sector-1 Vaishali,Ghaziabad</td>\n",
       "      <td>62.5</td>\n",
       "    </tr>\n",
       "    <tr>\n",
       "      <th>4</th>\n",
       "      <td>2</td>\n",
       "      <td>BHK</td>\n",
       "      <td>999.009247</td>\n",
       "      <td>New Town,Kolkata</td>\n",
       "      <td>60.5</td>\n",
       "    </tr>\n",
       "  </tbody>\n",
       "</table>\n",
       "</div>"
      ],
      "text/plain": [
       "   BHK_NO. BHK_OR_RK    SQUARE_FT                      ADDRESS  \\\n",
       "0        2       BHK  1300.236407        Ksfc Layout,Bangalore   \n",
       "1        2       BHK  1275.000000    Vishweshwara Nagar,Mysore   \n",
       "2        2       BHK   933.159722             Jigani,Bangalore   \n",
       "3        2       BHK   929.921143  Sector-1 Vaishali,Ghaziabad   \n",
       "4        2       BHK   999.009247             New Town,Kolkata   \n",
       "\n",
       "   TARGET(PRICE_IN_LACS)  \n",
       "0                   55.0  \n",
       "1                   51.0  \n",
       "2                   43.0  \n",
       "3                   62.5  \n",
       "4                   60.5  "
      ]
     },
     "execution_count": 4,
     "metadata": {},
     "output_type": "execute_result"
    }
   ],
   "source": [
    "df1=df.drop(['POSTED_BY','UNDER_CONSTRUCTION','RERA','READY_TO_MOVE','RESALE','LONGITUDE','LATITUDE'],axis='columns')\n",
    "df1.head()"
   ]
  },
  {
   "cell_type": "code",
   "execution_count": 5,
   "metadata": {},
   "outputs": [
    {
     "data": {
      "text/plain": [
       "BHK_NO.                  0\n",
       "BHK_OR_RK                0\n",
       "SQUARE_FT                0\n",
       "ADDRESS                  0\n",
       "TARGET(PRICE_IN_LACS)    0\n",
       "dtype: int64"
      ]
     },
     "execution_count": 5,
     "metadata": {},
     "output_type": "execute_result"
    }
   ],
   "source": [
    "df1.isnull().sum()"
   ]
  },
  {
   "cell_type": "code",
   "execution_count": 6,
   "metadata": {},
   "outputs": [
    {
     "data": {
      "text/plain": [
       "array([ 2,  3,  1,  4,  5,  6, 12,  8, 20, 10,  7,  9, 13, 17, 15, 11],\n",
       "      dtype=int64)"
      ]
     },
     "execution_count": 6,
     "metadata": {},
     "output_type": "execute_result"
    }
   ],
   "source": [
    "df1['BHK_NO.'].unique()"
   ]
  },
  {
   "cell_type": "code",
   "execution_count": 7,
   "metadata": {},
   "outputs": [
    {
     "data": {
      "text/plain": [
       "count    2.945100e+04\n",
       "mean     1.980217e+04\n",
       "std      1.901335e+06\n",
       "min      3.000000e+00\n",
       "25%      9.000211e+02\n",
       "50%      1.175057e+03\n",
       "75%      1.550688e+03\n",
       "max      2.545455e+08\n",
       "Name: SQUARE_FT, dtype: float64"
      ]
     },
     "execution_count": 7,
     "metadata": {},
     "output_type": "execute_result"
    }
   ],
   "source": [
    "df1['SQUARE_FT'].describe()"
   ]
  },
  {
   "cell_type": "code",
   "execution_count": 19,
   "metadata": {},
   "outputs": [
    {
     "name": "stderr",
     "output_type": "stream",
     "text": [
      "C:\\Users\\jagvir sinhj\\anaconda3\\lib\\site-packages\\seaborn\\_decorators.py:36: FutureWarning: Pass the following variables as keyword args: x, y. From version 0.12, the only valid positional argument will be `data`, and passing other arguments without an explicit keyword will result in an error or misinterpretation.\n",
      "  warnings.warn(\n"
     ]
    },
    {
     "data": {
      "text/plain": [
       "<AxesSubplot:xlabel='BHK_NO.', ylabel='SQUARE_FT'>"
      ]
     },
     "execution_count": 19,
     "metadata": {},
     "output_type": "execute_result"
    },
    {
     "data": {
      "image/png": "[encoded data removed]",
      "text/plain": [
       "<Figure size 432x288 with 1 Axes>"
      ]
     },
     "metadata": {
      "needs_background": "light"
     },
     "output_type": "display_data"
    }
   ],
   "source": [
    "sns.scatterplot(df1['BHK_NO.'],df1['SQUARE_FT'])"
   ]
  },
  {
   "cell_type": "code",
   "execution_count": 8,
   "metadata": {},
   "outputs": [
    {
     "data": {
      "text/html": [
       "<div>\n",
       "<style scoped>\n",
       "    .dataframe tbody tr th:only-of-type {\n",
       "        vertical-align: middle;\n",
       "    }\n",
       "\n",
       "    .dataframe tbody tr th {\n",
       "        vertical-align: top;\n",
       "    }\n",
       "\n",
       "    .dataframe thead th {\n",
       "        text-align: right;\n",
       "    }\n",
       "</style>\n",
       "<table border=\"1\" class=\"dataframe\">\n",
       "  <thead>\n",
       "    <tr style=\"text-align: right;\">\n",
       "      <th></th>\n",
       "      <th>BHK_NO.</th>\n",
       "      <th>BHK_OR_RK</th>\n",
       "      <th>SQUARE_FT</th>\n",
       "      <th>ADDRESS</th>\n",
       "      <th>TARGET(PRICE_IN_LACS)</th>\n",
       "      <th>PRICE_PER_SQR_FT</th>\n",
       "    </tr>\n",
       "  </thead>\n",
       "  <tbody>\n",
       "    <tr>\n",
       "      <th>0</th>\n",
       "      <td>2</td>\n",
       "      <td>BHK</td>\n",
       "      <td>1300.236407</td>\n",
       "      <td>Ksfc Layout,Bangalore</td>\n",
       "      <td>55.0</td>\n",
       "      <td>4229.999999</td>\n",
       "    </tr>\n",
       "    <tr>\n",
       "      <th>1</th>\n",
       "      <td>2</td>\n",
       "      <td>BHK</td>\n",
       "      <td>1275.000000</td>\n",
       "      <td>Vishweshwara Nagar,Mysore</td>\n",
       "      <td>51.0</td>\n",
       "      <td>4000.000000</td>\n",
       "    </tr>\n",
       "    <tr>\n",
       "      <th>2</th>\n",
       "      <td>2</td>\n",
       "      <td>BHK</td>\n",
       "      <td>933.159722</td>\n",
       "      <td>Jigani,Bangalore</td>\n",
       "      <td>43.0</td>\n",
       "      <td>4608.000000</td>\n",
       "    </tr>\n",
       "    <tr>\n",
       "      <th>3</th>\n",
       "      <td>2</td>\n",
       "      <td>BHK</td>\n",
       "      <td>929.921143</td>\n",
       "      <td>Sector-1 Vaishali,Ghaziabad</td>\n",
       "      <td>62.5</td>\n",
       "      <td>6721.000000</td>\n",
       "    </tr>\n",
       "    <tr>\n",
       "      <th>4</th>\n",
       "      <td>2</td>\n",
       "      <td>BHK</td>\n",
       "      <td>999.009247</td>\n",
       "      <td>New Town,Kolkata</td>\n",
       "      <td>60.5</td>\n",
       "      <td>6056.000000</td>\n",
       "    </tr>\n",
       "  </tbody>\n",
       "</table>\n",
       "</div>"
      ],
      "text/plain": [
       "   BHK_NO. BHK_OR_RK    SQUARE_FT                      ADDRESS  \\\n",
       "0        2       BHK  1300.236407        Ksfc Layout,Bangalore   \n",
       "1        2       BHK  1275.000000    Vishweshwara Nagar,Mysore   \n",
       "2        2       BHK   933.159722             Jigani,Bangalore   \n",
       "3        2       BHK   929.921143  Sector-1 Vaishali,Ghaziabad   \n",
       "4        2       BHK   999.009247             New Town,Kolkata   \n",
       "\n",
       "   TARGET(PRICE_IN_LACS)  PRICE_PER_SQR_FT  \n",
       "0                   55.0       4229.999999  \n",
       "1                   51.0       4000.000000  \n",
       "2                   43.0       4608.000000  \n",
       "3                   62.5       6721.000000  \n",
       "4                   60.5       6056.000000  "
      ]
     },
     "execution_count": 8,
     "metadata": {},
     "output_type": "execute_result"
    }
   ],
   "source": [
    "df1['PRICE_PER_SQR_FT']=(df1['TARGET(PRICE_IN_LACS)']*100000)/df1['SQUARE_FT']\n",
    "df1.head()"
   ]
  },
  {
   "cell_type": "code",
   "execution_count": 9,
   "metadata": {},
   "outputs": [
    {
     "data": {
      "text/plain": [
       "count     29451.000000\n",
       "mean       7503.938338\n",
       "std       10847.976910\n",
       "min           1.000000\n",
       "25%        3551.500001\n",
       "50%        5095.000000\n",
       "75%        8055.000000\n",
       "max      900000.000000\n",
       "Name: PRICE_PER_SQR_FT, dtype: float64"
      ]
     },
     "execution_count": 9,
     "metadata": {},
     "output_type": "execute_result"
    }
   ],
   "source": [
    "df1['PRICE_PER_SQR_FT'].describe()"
   ]
  },
  {
   "cell_type": "code",
   "execution_count": null,
   "metadata": {},
   "outputs": [],
   "source": []
  },
  {
   "cell_type": "code",
   "execution_count": 10,
   "metadata": {},
   "outputs": [],
   "source": [
    "def remove_area_outliers(df):\n",
    "    df_out = pd.DataFrame()\n",
    "    for key, subdf in df.groupby('ADDRESS'):\n",
    "        m = np.mean(subdf.PRICE_PER_SQR_FT)\n",
    "        sd = np.std(subdf.PRICE_PER_SQR_FT)\n",
    "        reduced_df = subdf[(subdf.PRICE_PER_SQR_FT > (m-sd)) & (subdf.PRICE_PER_SQR_FT < (m+sd))]\n",
    "        df_out = pd.concat([df_out,reduced_df],ignore_index=True)\n",
    "    return df_out\n"
   ]
  },
  {
   "cell_type": "code",
   "execution_count": 11,
   "metadata": {},
   "outputs": [
    {
     "data": {
      "text/plain": [
       "(16549, 6)"
      ]
     },
     "execution_count": 11,
     "metadata": {},
     "output_type": "execute_result"
    }
   ],
   "source": [
    "df2 = remove_area_outliers(df1)\n",
    "df2.shape"
   ]
  },
  {
   "cell_type": "code",
   "execution_count": 12,
   "metadata": {},
   "outputs": [
    {
     "data": {
      "text/plain": [
       "count     16549.000000\n",
       "mean       7225.587709\n",
       "std        6359.513904\n",
       "min         232.000000\n",
       "25%        3651.999999\n",
       "50%        5238.000001\n",
       "75%        7964.000002\n",
       "max      109757.000004\n",
       "Name: PRICE_PER_SQR_FT, dtype: float64"
      ]
     },
     "execution_count": 12,
     "metadata": {},
     "output_type": "execute_result"
    }
   ],
   "source": [
    "df2['PRICE_PER_SQR_FT'].describe()"
   ]
  },
  {
   "cell_type": "code",
   "execution_count": null,
   "metadata": {},
   "outputs": [],
   "source": []
  },
  {
   "cell_type": "code",
   "execution_count": 17,
   "metadata": {
    "scrolled": false
   },
   "outputs": [
    {
     "name": "stderr",
     "output_type": "stream",
     "text": [
      "C:\\Users\\jagvir sinhj\\anaconda3\\lib\\site-packages\\seaborn\\_decorators.py:36: FutureWarning: Pass the following variables as keyword args: x, y. From version 0.12, the only valid positional argument will be `data`, and passing other arguments without an explicit keyword will result in an error or misinterpretation.\n",
      "  warnings.warn(\n"
     ]
    },
    {
     "data": {
      "text/plain": [
       "<AxesSubplot:xlabel='BHK_NO.', ylabel='PRICE_PER_SQR_FT'>"
      ]
     },
     "execution_count": 17,
     "metadata": {},
     "output_type": "execute_result"
    },
    {
     "data": {
      "image/png": "[encoded data removed]",
      "text/plain": [
       "<Figure size 432x288 with 1 Axes>"
      ]
     },
     "metadata": {
      "needs_background": "light"
     },
     "output_type": "display_data"
    }
   ],
   "source": [
    "sns.scatterplot(df2['BHK_NO.'],df2['PRICE_PER_SQR_FT'])"
   ]
  },
  {
   "cell_type": "code",
   "execution_count": 54,
   "metadata": {},
   "outputs": [
    {
     "data": {
      "text/plain": [
       "(array([1.407e+04, 1.951e+03, 3.510e+02, 1.150e+02, 5.100e+01, 4.000e+00,\n",
       "        1.000e+00, 2.000e+00, 1.000e+00, 3.000e+00]),\n",
       " array([   232.00000001,  11184.50000046,  22137.0000009 ,  33089.50000134,\n",
       "         44042.00000179,  54994.50000223,  65947.00000267,  76899.50000312,\n",
       "         87852.00000356,  98804.500004  , 109757.00000445]),\n",
       " <BarContainer object of 10 artists>)"
      ]
     },
     "execution_count": 54,
     "metadata": {},
     "output_type": "execute_result"
    },
    {
     "data": {
      "image/png": "[encoded data removed]",
      "text/plain": [
       "<Figure size 432x288 with 1 Axes>"
      ]
     },
     "metadata": {
      "needs_background": "light"
     },
     "output_type": "display_data"
    }
   ],
   "source": [
    "plt.hist(df2['PRICE_PER_SQR_FT'])"
   ]
  },
  {
   "cell_type": "code",
   "execution_count": 21,
   "metadata": {},
   "outputs": [],
   "source": [
    "def check_float(x):\n",
    "    try:\n",
    "        float(x)\n",
    "    except:\n",
    "        return False\n",
    "    return True"
   ]
  },
  {
   "cell_type": "code",
   "execution_count": 22,
   "metadata": {},
   "outputs": [
    {
     "data": {
      "text/html": [
       "<div>\n",
       "<style scoped>\n",
       "    .dataframe tbody tr th:only-of-type {\n",
       "        vertical-align: middle;\n",
       "    }\n",
       "\n",
       "    .dataframe tbody tr th {\n",
       "        vertical-align: top;\n",
       "    }\n",
       "\n",
       "    .dataframe thead th {\n",
       "        text-align: right;\n",
       "    }\n",
       "</style>\n",
       "<table border=\"1\" class=\"dataframe\">\n",
       "  <thead>\n",
       "    <tr style=\"text-align: right;\">\n",
       "      <th></th>\n",
       "      <th>BHK_NO.</th>\n",
       "      <th>BHK_OR_RK</th>\n",
       "      <th>SQUARE_FT</th>\n",
       "      <th>ADDRESS</th>\n",
       "      <th>TARGET(PRICE_IN_LACS)</th>\n",
       "      <th>PRICE_PER_SQR_FT</th>\n",
       "    </tr>\n",
       "  </thead>\n",
       "  <tbody>\n",
       "    <tr>\n",
       "      <th>0</th>\n",
       "      <td>3</td>\n",
       "      <td>BHK</td>\n",
       "      <td>2600.104004</td>\n",
       "      <td>1st Block Jayanagar,Bangalore</td>\n",
       "      <td>450.0</td>\n",
       "      <td>17307.000001</td>\n",
       "    </tr>\n",
       "    <tr>\n",
       "      <th>1</th>\n",
       "      <td>3</td>\n",
       "      <td>BHK</td>\n",
       "      <td>2470.588235</td>\n",
       "      <td>1st Block Jayanagar,Bangalore</td>\n",
       "      <td>420.0</td>\n",
       "      <td>17000.000002</td>\n",
       "    </tr>\n",
       "    <tr>\n",
       "      <th>2</th>\n",
       "      <td>2</td>\n",
       "      <td>BHK</td>\n",
       "      <td>1149.095088</td>\n",
       "      <td>1st Block Jayanagar,Bangalore</td>\n",
       "      <td>120.0</td>\n",
       "      <td>10442.999997</td>\n",
       "    </tr>\n",
       "    <tr>\n",
       "      <th>3</th>\n",
       "      <td>3</td>\n",
       "      <td>BHK</td>\n",
       "      <td>3200.000000</td>\n",
       "      <td>1st Block Jayanagar,Bangalore</td>\n",
       "      <td>460.0</td>\n",
       "      <td>14375.000000</td>\n",
       "    </tr>\n",
       "    <tr>\n",
       "      <th>4</th>\n",
       "      <td>3</td>\n",
       "      <td>BHK</td>\n",
       "      <td>2569.435948</td>\n",
       "      <td>1st Block Jayanagar,Bangalore</td>\n",
       "      <td>420.0</td>\n",
       "      <td>16345.999998</td>\n",
       "    </tr>\n",
       "    <tr>\n",
       "      <th>...</th>\n",
       "      <td>...</td>\n",
       "      <td>...</td>\n",
       "      <td>...</td>\n",
       "      <td>...</td>\n",
       "      <td>...</td>\n",
       "      <td>...</td>\n",
       "    </tr>\n",
       "    <tr>\n",
       "      <th>16544</th>\n",
       "      <td>3</td>\n",
       "      <td>BHK</td>\n",
       "      <td>1529.689890</td>\n",
       "      <td>sector-121 Noida,Noida</td>\n",
       "      <td>110.0</td>\n",
       "      <td>7191.000001</td>\n",
       "    </tr>\n",
       "    <tr>\n",
       "      <th>16545</th>\n",
       "      <td>4</td>\n",
       "      <td>BHK</td>\n",
       "      <td>3065.010486</td>\n",
       "      <td>sector-121 Noida,Noida</td>\n",
       "      <td>190.0</td>\n",
       "      <td>6198.999999</td>\n",
       "    </tr>\n",
       "    <tr>\n",
       "      <th>16546</th>\n",
       "      <td>3</td>\n",
       "      <td>BHK</td>\n",
       "      <td>2427.184466</td>\n",
       "      <td>sector-58 Gurgaon,Gurgaon</td>\n",
       "      <td>250.0</td>\n",
       "      <td>10300.000000</td>\n",
       "    </tr>\n",
       "    <tr>\n",
       "      <th>16547</th>\n",
       "      <td>3</td>\n",
       "      <td>BHK</td>\n",
       "      <td>3016.591252</td>\n",
       "      <td>sector-58 Gurgaon,Gurgaon</td>\n",
       "      <td>320.0</td>\n",
       "      <td>10608.000000</td>\n",
       "    </tr>\n",
       "    <tr>\n",
       "      <th>16548</th>\n",
       "      <td>3</td>\n",
       "      <td>BHK</td>\n",
       "      <td>2113.526570</td>\n",
       "      <td>sector-58 Gurgaon,Gurgaon</td>\n",
       "      <td>210.0</td>\n",
       "      <td>9936.000000</td>\n",
       "    </tr>\n",
       "  </tbody>\n",
       "</table>\n",
       "<p>16549 rows × 6 columns</p>\n",
       "</div>"
      ],
      "text/plain": [
       "       BHK_NO. BHK_OR_RK    SQUARE_FT                        ADDRESS  \\\n",
       "0            3       BHK  2600.104004  1st Block Jayanagar,Bangalore   \n",
       "1            3       BHK  2470.588235  1st Block Jayanagar,Bangalore   \n",
       "2            2       BHK  1149.095088  1st Block Jayanagar,Bangalore   \n",
       "3            3       BHK  3200.000000  1st Block Jayanagar,Bangalore   \n",
       "4            3       BHK  2569.435948  1st Block Jayanagar,Bangalore   \n",
       "...        ...       ...          ...                            ...   \n",
       "16544        3       BHK  1529.689890         sector-121 Noida,Noida   \n",
       "16545        4       BHK  3065.010486         sector-121 Noida,Noida   \n",
       "16546        3       BHK  2427.184466      sector-58 Gurgaon,Gurgaon   \n",
       "16547        3       BHK  3016.591252      sector-58 Gurgaon,Gurgaon   \n",
       "16548        3       BHK  2113.526570      sector-58 Gurgaon,Gurgaon   \n",
       "\n",
       "       TARGET(PRICE_IN_LACS)  PRICE_PER_SQR_FT  \n",
       "0                      450.0      17307.000001  \n",
       "1                      420.0      17000.000002  \n",
       "2                      120.0      10442.999997  \n",
       "3                      460.0      14375.000000  \n",
       "4                      420.0      16345.999998  \n",
       "...                      ...               ...  \n",
       "16544                  110.0       7191.000001  \n",
       "16545                  190.0       6198.999999  \n",
       "16546                  250.0      10300.000000  \n",
       "16547                  320.0      10608.000000  \n",
       "16548                  210.0       9936.000000  \n",
       "\n",
       "[16549 rows x 6 columns]"
      ]
     },
     "execution_count": 22,
     "metadata": {},
     "output_type": "execute_result"
    }
   ],
   "source": [
    "df2[(df2['SQUARE_FT'].apply(check_float))]"
   ]
  },
  {
   "cell_type": "code",
   "execution_count": 23,
   "metadata": {},
   "outputs": [
    {
     "data": {
      "text/plain": [
       "BHK_OR_RK\n",
       "BHK    16540\n",
       "RK         9\n",
       "Name: BHK_OR_RK, dtype: int64"
      ]
     },
     "execution_count": 23,
     "metadata": {},
     "output_type": "execute_result"
    }
   ],
   "source": [
    "house_type = df2.groupby('BHK_OR_RK')['BHK_OR_RK'].agg('count')\n",
    "house_type"
   ]
  },
  {
   "cell_type": "code",
   "execution_count": 24,
   "metadata": {},
   "outputs": [],
   "source": [
    "df2.BHK_OR_RK = df2.BHK_OR_RK.apply(lambda x: 0 if x=='BHK' else 1)\n",
    "## BHK = 0 and RK = 1"
   ]
  },
  {
   "cell_type": "code",
   "execution_count": 25,
   "metadata": {},
   "outputs": [
    {
     "data": {
      "text/html": [
       "<div>\n",
       "<style scoped>\n",
       "    .dataframe tbody tr th:only-of-type {\n",
       "        vertical-align: middle;\n",
       "    }\n",
       "\n",
       "    .dataframe tbody tr th {\n",
       "        vertical-align: top;\n",
       "    }\n",
       "\n",
       "    .dataframe thead th {\n",
       "        text-align: right;\n",
       "    }\n",
       "</style>\n",
       "<table border=\"1\" class=\"dataframe\">\n",
       "  <thead>\n",
       "    <tr style=\"text-align: right;\">\n",
       "      <th></th>\n",
       "      <th>BHK_NO.</th>\n",
       "      <th>BHK_OR_RK</th>\n",
       "      <th>SQUARE_FT</th>\n",
       "      <th>ADDRESS</th>\n",
       "      <th>TARGET(PRICE_IN_LACS)</th>\n",
       "      <th>PRICE_PER_SQR_FT</th>\n",
       "    </tr>\n",
       "  </thead>\n",
       "  <tbody>\n",
       "    <tr>\n",
       "      <th>0</th>\n",
       "      <td>3</td>\n",
       "      <td>0</td>\n",
       "      <td>2600.104004</td>\n",
       "      <td>1st Block Jayanagar,Bangalore</td>\n",
       "      <td>450.0</td>\n",
       "      <td>17307.000001</td>\n",
       "    </tr>\n",
       "    <tr>\n",
       "      <th>1</th>\n",
       "      <td>3</td>\n",
       "      <td>0</td>\n",
       "      <td>2470.588235</td>\n",
       "      <td>1st Block Jayanagar,Bangalore</td>\n",
       "      <td>420.0</td>\n",
       "      <td>17000.000002</td>\n",
       "    </tr>\n",
       "    <tr>\n",
       "      <th>2</th>\n",
       "      <td>2</td>\n",
       "      <td>0</td>\n",
       "      <td>1149.095088</td>\n",
       "      <td>1st Block Jayanagar,Bangalore</td>\n",
       "      <td>120.0</td>\n",
       "      <td>10442.999997</td>\n",
       "    </tr>\n",
       "    <tr>\n",
       "      <th>3</th>\n",
       "      <td>3</td>\n",
       "      <td>0</td>\n",
       "      <td>3200.000000</td>\n",
       "      <td>1st Block Jayanagar,Bangalore</td>\n",
       "      <td>460.0</td>\n",
       "      <td>14375.000000</td>\n",
       "    </tr>\n",
       "    <tr>\n",
       "      <th>4</th>\n",
       "      <td>3</td>\n",
       "      <td>0</td>\n",
       "      <td>2569.435948</td>\n",
       "      <td>1st Block Jayanagar,Bangalore</td>\n",
       "      <td>420.0</td>\n",
       "      <td>16345.999998</td>\n",
       "    </tr>\n",
       "    <tr>\n",
       "      <th>...</th>\n",
       "      <td>...</td>\n",
       "      <td>...</td>\n",
       "      <td>...</td>\n",
       "      <td>...</td>\n",
       "      <td>...</td>\n",
       "      <td>...</td>\n",
       "    </tr>\n",
       "    <tr>\n",
       "      <th>16544</th>\n",
       "      <td>3</td>\n",
       "      <td>0</td>\n",
       "      <td>1529.689890</td>\n",
       "      <td>sector-121 Noida,Noida</td>\n",
       "      <td>110.0</td>\n",
       "      <td>7191.000001</td>\n",
       "    </tr>\n",
       "    <tr>\n",
       "      <th>16545</th>\n",
       "      <td>4</td>\n",
       "      <td>0</td>\n",
       "      <td>3065.010486</td>\n",
       "      <td>sector-121 Noida,Noida</td>\n",
       "      <td>190.0</td>\n",
       "      <td>6198.999999</td>\n",
       "    </tr>\n",
       "    <tr>\n",
       "      <th>16546</th>\n",
       "      <td>3</td>\n",
       "      <td>0</td>\n",
       "      <td>2427.184466</td>\n",
       "      <td>sector-58 Gurgaon,Gurgaon</td>\n",
       "      <td>250.0</td>\n",
       "      <td>10300.000000</td>\n",
       "    </tr>\n",
       "    <tr>\n",
       "      <th>16547</th>\n",
       "      <td>3</td>\n",
       "      <td>0</td>\n",
       "      <td>3016.591252</td>\n",
       "      <td>sector-58 Gurgaon,Gurgaon</td>\n",
       "      <td>320.0</td>\n",
       "      <td>10608.000000</td>\n",
       "    </tr>\n",
       "    <tr>\n",
       "      <th>16548</th>\n",
       "      <td>3</td>\n",
       "      <td>0</td>\n",
       "      <td>2113.526570</td>\n",
       "      <td>sector-58 Gurgaon,Gurgaon</td>\n",
       "      <td>210.0</td>\n",
       "      <td>9936.000000</td>\n",
       "    </tr>\n",
       "  </tbody>\n",
       "</table>\n",
       "<p>16549 rows × 6 columns</p>\n",
       "</div>"
      ],
      "text/plain": [
       "       BHK_NO.  BHK_OR_RK    SQUARE_FT                        ADDRESS  \\\n",
       "0            3          0  2600.104004  1st Block Jayanagar,Bangalore   \n",
       "1            3          0  2470.588235  1st Block Jayanagar,Bangalore   \n",
       "2            2          0  1149.095088  1st Block Jayanagar,Bangalore   \n",
       "3            3          0  3200.000000  1st Block Jayanagar,Bangalore   \n",
       "4            3          0  2569.435948  1st Block Jayanagar,Bangalore   \n",
       "...        ...        ...          ...                            ...   \n",
       "16544        3          0  1529.689890         sector-121 Noida,Noida   \n",
       "16545        4          0  3065.010486         sector-121 Noida,Noida   \n",
       "16546        3          0  2427.184466      sector-58 Gurgaon,Gurgaon   \n",
       "16547        3          0  3016.591252      sector-58 Gurgaon,Gurgaon   \n",
       "16548        3          0  2113.526570      sector-58 Gurgaon,Gurgaon   \n",
       "\n",
       "       TARGET(PRICE_IN_LACS)  PRICE_PER_SQR_FT  \n",
       "0                      450.0      17307.000001  \n",
       "1                      420.0      17000.000002  \n",
       "2                      120.0      10442.999997  \n",
       "3                      460.0      14375.000000  \n",
       "4                      420.0      16345.999998  \n",
       "...                      ...               ...  \n",
       "16544                  110.0       7191.000001  \n",
       "16545                  190.0       6198.999999  \n",
       "16546                  250.0      10300.000000  \n",
       "16547                  320.0      10608.000000  \n",
       "16548                  210.0       9936.000000  \n",
       "\n",
       "[16549 rows x 6 columns]"
      ]
     },
     "execution_count": 25,
     "metadata": {},
     "output_type": "execute_result"
    }
   ],
   "source": [
    "df2"
   ]
  },
  {
   "cell_type": "code",
   "execution_count": 30,
   "metadata": {},
   "outputs": [
    {
     "name": "stderr",
     "output_type": "stream",
     "text": [
      "C:\\Users\\jagvir sinhj\\anaconda3\\lib\\site-packages\\seaborn\\_decorators.py:36: FutureWarning: Pass the following variables as keyword args: x, y. From version 0.12, the only valid positional argument will be `data`, and passing other arguments without an explicit keyword will result in an error or misinterpretation.\n",
      "  warnings.warn(\n"
     ]
    },
    {
     "data": {
      "text/plain": [
       "<AxesSubplot:xlabel='BHK_OR_RK', ylabel='PRICE_PER_SQR_FT'>"
      ]
     },
     "execution_count": 30,
     "metadata": {},
     "output_type": "execute_result"
    },
    {
     "data": {
      "image/png": "[encoded data removed]",
      "text/plain": [
       "<Figure size 432x288 with 1 Axes>"
      ]
     },
     "metadata": {
      "needs_background": "light"
     },
     "output_type": "display_data"
    }
   ],
   "source": [
    "sns.barplot(df2.BHK_OR_RK,df2.PRICE_PER_SQR_FT)"
   ]
  },
  {
   "cell_type": "code",
   "execution_count": 31,
   "metadata": {},
   "outputs": [
    {
     "data": {
      "text/plain": [
       "2373"
      ]
     },
     "execution_count": 31,
     "metadata": {},
     "output_type": "execute_result"
    }
   ],
   "source": [
    "len(df2.ADDRESS.unique())"
   ]
  },
  {
   "cell_type": "code",
   "execution_count": 32,
   "metadata": {},
   "outputs": [
    {
     "data": {
      "text/plain": [
       "ADDRESS\n",
       "Zirakpur,Chandigarh              341\n",
       "Raj Nagar Extension,Ghaziabad    165\n",
       "Whitefield,Bangalore             144\n",
       "New Town,Kolkata                 109\n",
       "Sector-137 Noida,Noida            98\n",
       "                                ... \n",
       "Dairy Circle,Bangalore             1\n",
       "Dahisar,Lalitpur                   1\n",
       "Sector-22 Gurgaon,Gurgaon          1\n",
       "Madhavpura,Vadodara                1\n",
       "Rambaug Colony,Pune                1\n",
       "Name: ADDRESS, Length: 2373, dtype: int64"
      ]
     },
     "execution_count": 32,
     "metadata": {},
     "output_type": "execute_result"
    }
   ],
   "source": [
    "different_loc = df2.groupby('ADDRESS')['ADDRESS'].agg('count').sort_values(ascending=False)\n",
    "different_loc"
   ]
  },
  {
   "cell_type": "code",
   "execution_count": 36,
   "metadata": {},
   "outputs": [
    {
     "data": {
      "text/plain": [
       "2188"
      ]
     },
     "execution_count": 36,
     "metadata": {},
     "output_type": "execute_result"
    }
   ],
   "source": [
    "loc_stats_less_than_20 = different_loc[different_loc<20]\n",
    "len(loc_stats_less_than_20)"
   ]
  },
  {
   "cell_type": "code",
   "execution_count": 37,
   "metadata": {},
   "outputs": [],
   "source": [
    "df2.ADDRESS = df2.ADDRESS.apply(lambda x: 'other' if x in loc_stats_less_than_20 else x)"
   ]
  },
  {
   "cell_type": "code",
   "execution_count": 38,
   "metadata": {},
   "outputs": [
    {
     "data": {
      "text/plain": [
       "186"
      ]
     },
     "execution_count": 38,
     "metadata": {},
     "output_type": "execute_result"
    }
   ],
   "source": [
    "len(df2.ADDRESS.unique())"
   ]
  },
  {
   "cell_type": "code",
   "execution_count": 39,
   "metadata": {},
   "outputs": [
    {
     "data": {
      "text/html": [
       "<div>\n",
       "<style scoped>\n",
       "    .dataframe tbody tr th:only-of-type {\n",
       "        vertical-align: middle;\n",
       "    }\n",
       "\n",
       "    .dataframe tbody tr th {\n",
       "        vertical-align: top;\n",
       "    }\n",
       "\n",
       "    .dataframe thead th {\n",
       "        text-align: right;\n",
       "    }\n",
       "</style>\n",
       "<table border=\"1\" class=\"dataframe\">\n",
       "  <thead>\n",
       "    <tr style=\"text-align: right;\">\n",
       "      <th></th>\n",
       "      <th>7th Phase JP Nagar,Bangalore</th>\n",
       "      <th>Adajan,Surat</th>\n",
       "      <th>Ahinsa Khand 1,Ghaziabad</th>\n",
       "      <th>Ahinsa Khand 2,Ghaziabad</th>\n",
       "      <th>Ajmer Road,Jaipur</th>\n",
       "      <th>Akshaya Nagar,Bangalore</th>\n",
       "      <th>Alwar Bypass Road,Bhiwadi</th>\n",
       "      <th>Balewadi,Pune</th>\n",
       "      <th>Balkum,Lalitpur</th>\n",
       "      <th>Balkum,Maharashtra</th>\n",
       "      <th>...</th>\n",
       "      <th>Wadala,Mumbai</th>\n",
       "      <th>Wagholi,Pune</th>\n",
       "      <th>Wakad,Pune</th>\n",
       "      <th>Whitefield,Bangalore</th>\n",
       "      <th>Worli,Lalitpur</th>\n",
       "      <th>Yelahanka,Bangalore</th>\n",
       "      <th>Zirakpur,Chandigarh</th>\n",
       "      <th>Zirakpur,Mohali</th>\n",
       "      <th>other</th>\n",
       "      <th>sector-121 Noida,Noida</th>\n",
       "    </tr>\n",
       "  </thead>\n",
       "  <tbody>\n",
       "    <tr>\n",
       "      <th>0</th>\n",
       "      <td>0</td>\n",
       "      <td>0</td>\n",
       "      <td>0</td>\n",
       "      <td>0</td>\n",
       "      <td>0</td>\n",
       "      <td>0</td>\n",
       "      <td>0</td>\n",
       "      <td>0</td>\n",
       "      <td>0</td>\n",
       "      <td>0</td>\n",
       "      <td>...</td>\n",
       "      <td>0</td>\n",
       "      <td>0</td>\n",
       "      <td>0</td>\n",
       "      <td>0</td>\n",
       "      <td>0</td>\n",
       "      <td>0</td>\n",
       "      <td>0</td>\n",
       "      <td>0</td>\n",
       "      <td>1</td>\n",
       "      <td>0</td>\n",
       "    </tr>\n",
       "    <tr>\n",
       "      <th>1</th>\n",
       "      <td>0</td>\n",
       "      <td>0</td>\n",
       "      <td>0</td>\n",
       "      <td>0</td>\n",
       "      <td>0</td>\n",
       "      <td>0</td>\n",
       "      <td>0</td>\n",
       "      <td>0</td>\n",
       "      <td>0</td>\n",
       "      <td>0</td>\n",
       "      <td>...</td>\n",
       "      <td>0</td>\n",
       "      <td>0</td>\n",
       "      <td>0</td>\n",
       "      <td>0</td>\n",
       "      <td>0</td>\n",
       "      <td>0</td>\n",
       "      <td>0</td>\n",
       "      <td>0</td>\n",
       "      <td>1</td>\n",
       "      <td>0</td>\n",
       "    </tr>\n",
       "  </tbody>\n",
       "</table>\n",
       "<p>2 rows × 186 columns</p>\n",
       "</div>"
      ],
      "text/plain": [
       "   7th Phase JP Nagar,Bangalore  Adajan,Surat  Ahinsa Khand 1,Ghaziabad  \\\n",
       "0                             0             0                         0   \n",
       "1                             0             0                         0   \n",
       "\n",
       "   Ahinsa Khand 2,Ghaziabad  Ajmer Road,Jaipur  Akshaya Nagar,Bangalore  \\\n",
       "0                         0                  0                        0   \n",
       "1                         0                  0                        0   \n",
       "\n",
       "   Alwar Bypass Road,Bhiwadi  Balewadi,Pune  Balkum,Lalitpur  \\\n",
       "0                          0              0                0   \n",
       "1                          0              0                0   \n",
       "\n",
       "   Balkum,Maharashtra  ...  Wadala,Mumbai  Wagholi,Pune  Wakad,Pune  \\\n",
       "0                   0  ...              0             0           0   \n",
       "1                   0  ...              0             0           0   \n",
       "\n",
       "   Whitefield,Bangalore  Worli,Lalitpur  Yelahanka,Bangalore  \\\n",
       "0                     0               0                    0   \n",
       "1                     0               0                    0   \n",
       "\n",
       "   Zirakpur,Chandigarh  Zirakpur,Mohali  other  sector-121 Noida,Noida  \n",
       "0                    0                0      1                       0  \n",
       "1                    0                0      1                       0  \n",
       "\n",
       "[2 rows x 186 columns]"
      ]
     },
     "execution_count": 39,
     "metadata": {},
     "output_type": "execute_result"
    }
   ],
   "source": [
    "dummies = pd.get_dummies(df2.ADDRESS)\n",
    "dummies.head(2)"
   ]
  },
  {
   "cell_type": "code",
   "execution_count": 40,
   "metadata": {
    "scrolled": true
   },
   "outputs": [
    {
     "data": {
      "text/html": [
       "<div>\n",
       "<style scoped>\n",
       "    .dataframe tbody tr th:only-of-type {\n",
       "        vertical-align: middle;\n",
       "    }\n",
       "\n",
       "    .dataframe tbody tr th {\n",
       "        vertical-align: top;\n",
       "    }\n",
       "\n",
       "    .dataframe thead th {\n",
       "        text-align: right;\n",
       "    }\n",
       "</style>\n",
       "<table border=\"1\" class=\"dataframe\">\n",
       "  <thead>\n",
       "    <tr style=\"text-align: right;\">\n",
       "      <th></th>\n",
       "      <th>BHK_NO.</th>\n",
       "      <th>BHK_OR_RK</th>\n",
       "      <th>SQUARE_FT</th>\n",
       "      <th>ADDRESS</th>\n",
       "      <th>TARGET(PRICE_IN_LACS)</th>\n",
       "      <th>PRICE_PER_SQR_FT</th>\n",
       "      <th>7th Phase JP Nagar,Bangalore</th>\n",
       "      <th>Adajan,Surat</th>\n",
       "      <th>Ahinsa Khand 1,Ghaziabad</th>\n",
       "      <th>Ahinsa Khand 2,Ghaziabad</th>\n",
       "      <th>...</th>\n",
       "      <th>Virar West,Lalitpur</th>\n",
       "      <th>Wadala,Mumbai</th>\n",
       "      <th>Wagholi,Pune</th>\n",
       "      <th>Wakad,Pune</th>\n",
       "      <th>Whitefield,Bangalore</th>\n",
       "      <th>Worli,Lalitpur</th>\n",
       "      <th>Yelahanka,Bangalore</th>\n",
       "      <th>Zirakpur,Chandigarh</th>\n",
       "      <th>Zirakpur,Mohali</th>\n",
       "      <th>sector-121 Noida,Noida</th>\n",
       "    </tr>\n",
       "  </thead>\n",
       "  <tbody>\n",
       "    <tr>\n",
       "      <th>0</th>\n",
       "      <td>3</td>\n",
       "      <td>0</td>\n",
       "      <td>2600.104004</td>\n",
       "      <td>other</td>\n",
       "      <td>450.0</td>\n",
       "      <td>17307.000001</td>\n",
       "      <td>0</td>\n",
       "      <td>0</td>\n",
       "      <td>0</td>\n",
       "      <td>0</td>\n",
       "      <td>...</td>\n",
       "      <td>0</td>\n",
       "      <td>0</td>\n",
       "      <td>0</td>\n",
       "      <td>0</td>\n",
       "      <td>0</td>\n",
       "      <td>0</td>\n",
       "      <td>0</td>\n",
       "      <td>0</td>\n",
       "      <td>0</td>\n",
       "      <td>0</td>\n",
       "    </tr>\n",
       "    <tr>\n",
       "      <th>1</th>\n",
       "      <td>3</td>\n",
       "      <td>0</td>\n",
       "      <td>2470.588235</td>\n",
       "      <td>other</td>\n",
       "      <td>420.0</td>\n",
       "      <td>17000.000002</td>\n",
       "      <td>0</td>\n",
       "      <td>0</td>\n",
       "      <td>0</td>\n",
       "      <td>0</td>\n",
       "      <td>...</td>\n",
       "      <td>0</td>\n",
       "      <td>0</td>\n",
       "      <td>0</td>\n",
       "      <td>0</td>\n",
       "      <td>0</td>\n",
       "      <td>0</td>\n",
       "      <td>0</td>\n",
       "      <td>0</td>\n",
       "      <td>0</td>\n",
       "      <td>0</td>\n",
       "    </tr>\n",
       "    <tr>\n",
       "      <th>2</th>\n",
       "      <td>2</td>\n",
       "      <td>0</td>\n",
       "      <td>1149.095088</td>\n",
       "      <td>other</td>\n",
       "      <td>120.0</td>\n",
       "      <td>10442.999997</td>\n",
       "      <td>0</td>\n",
       "      <td>0</td>\n",
       "      <td>0</td>\n",
       "      <td>0</td>\n",
       "      <td>...</td>\n",
       "      <td>0</td>\n",
       "      <td>0</td>\n",
       "      <td>0</td>\n",
       "      <td>0</td>\n",
       "      <td>0</td>\n",
       "      <td>0</td>\n",
       "      <td>0</td>\n",
       "      <td>0</td>\n",
       "      <td>0</td>\n",
       "      <td>0</td>\n",
       "    </tr>\n",
       "    <tr>\n",
       "      <th>3</th>\n",
       "      <td>3</td>\n",
       "      <td>0</td>\n",
       "      <td>3200.000000</td>\n",
       "      <td>other</td>\n",
       "      <td>460.0</td>\n",
       "      <td>14375.000000</td>\n",
       "      <td>0</td>\n",
       "      <td>0</td>\n",
       "      <td>0</td>\n",
       "      <td>0</td>\n",
       "      <td>...</td>\n",
       "      <td>0</td>\n",
       "      <td>0</td>\n",
       "      <td>0</td>\n",
       "      <td>0</td>\n",
       "      <td>0</td>\n",
       "      <td>0</td>\n",
       "      <td>0</td>\n",
       "      <td>0</td>\n",
       "      <td>0</td>\n",
       "      <td>0</td>\n",
       "    </tr>\n",
       "    <tr>\n",
       "      <th>4</th>\n",
       "      <td>3</td>\n",
       "      <td>0</td>\n",
       "      <td>2569.435948</td>\n",
       "      <td>other</td>\n",
       "      <td>420.0</td>\n",
       "      <td>16345.999998</td>\n",
       "      <td>0</td>\n",
       "      <td>0</td>\n",
       "      <td>0</td>\n",
       "      <td>0</td>\n",
       "      <td>...</td>\n",
       "      <td>0</td>\n",
       "      <td>0</td>\n",
       "      <td>0</td>\n",
       "      <td>0</td>\n",
       "      <td>0</td>\n",
       "      <td>0</td>\n",
       "      <td>0</td>\n",
       "      <td>0</td>\n",
       "      <td>0</td>\n",
       "      <td>0</td>\n",
       "    </tr>\n",
       "  </tbody>\n",
       "</table>\n",
       "<p>5 rows × 191 columns</p>\n",
       "</div>"
      ],
      "text/plain": [
       "   BHK_NO.  BHK_OR_RK    SQUARE_FT ADDRESS  TARGET(PRICE_IN_LACS)  \\\n",
       "0        3          0  2600.104004   other                  450.0   \n",
       "1        3          0  2470.588235   other                  420.0   \n",
       "2        2          0  1149.095088   other                  120.0   \n",
       "3        3          0  3200.000000   other                  460.0   \n",
       "4        3          0  2569.435948   other                  420.0   \n",
       "\n",
       "   PRICE_PER_SQR_FT  7th Phase JP Nagar,Bangalore  Adajan,Surat  \\\n",
       "0      17307.000001                             0             0   \n",
       "1      17000.000002                             0             0   \n",
       "2      10442.999997                             0             0   \n",
       "3      14375.000000                             0             0   \n",
       "4      16345.999998                             0             0   \n",
       "\n",
       "   Ahinsa Khand 1,Ghaziabad  Ahinsa Khand 2,Ghaziabad  ...  \\\n",
       "0                         0                         0  ...   \n",
       "1                         0                         0  ...   \n",
       "2                         0                         0  ...   \n",
       "3                         0                         0  ...   \n",
       "4                         0                         0  ...   \n",
       "\n",
       "   Virar West,Lalitpur  Wadala,Mumbai  Wagholi,Pune  Wakad,Pune  \\\n",
       "0                    0              0             0           0   \n",
       "1                    0              0             0           0   \n",
       "2                    0              0             0           0   \n",
       "3                    0              0             0           0   \n",
       "4                    0              0             0           0   \n",
       "\n",
       "   Whitefield,Bangalore  Worli,Lalitpur  Yelahanka,Bangalore  \\\n",
       "0                     0               0                    0   \n",
       "1                     0               0                    0   \n",
       "2                     0               0                    0   \n",
       "3                     0               0                    0   \n",
       "4                     0               0                    0   \n",
       "\n",
       "   Zirakpur,Chandigarh  Zirakpur,Mohali  sector-121 Noida,Noida  \n",
       "0                    0                0                       0  \n",
       "1                    0                0                       0  \n",
       "2                    0                0                       0  \n",
       "3                    0                0                       0  \n",
       "4                    0                0                       0  \n",
       "\n",
       "[5 rows x 191 columns]"
      ]
     },
     "execution_count": 40,
     "metadata": {},
     "output_type": "execute_result"
    }
   ],
   "source": [
    "df3=pd.concat([df2,dummies.drop(['other'],axis='columns')],axis='columns')\n",
    "df3.head()"
   ]
  },
  {
   "cell_type": "code",
   "execution_count": 41,
   "metadata": {},
   "outputs": [
    {
     "data": {
      "text/plain": [
       "(16549, 191)"
      ]
     },
     "execution_count": 41,
     "metadata": {},
     "output_type": "execute_result"
    }
   ],
   "source": [
    "df3.shape"
   ]
  },
  {
   "cell_type": "code",
   "execution_count": 42,
   "metadata": {},
   "outputs": [],
   "source": [
    "df4 = df3.drop(['PRICE_PER_SQR_FT','ADDRESS'],axis='columns')"
   ]
  },
  {
   "cell_type": "code",
   "execution_count": 43,
   "metadata": {},
   "outputs": [],
   "source": [
    "X=df4.drop('TARGET(PRICE_IN_LACS)',axis='columns')"
   ]
  },
  {
   "cell_type": "code",
   "execution_count": 46,
   "metadata": {
    "scrolled": true
   },
   "outputs": [
    {
     "data": {
      "text/html": [
       "<div>\n",
       "<style scoped>\n",
       "    .dataframe tbody tr th:only-of-type {\n",
       "        vertical-align: middle;\n",
       "    }\n",
       "\n",
       "    .dataframe tbody tr th {\n",
       "        vertical-align: top;\n",
       "    }\n",
       "\n",
       "    .dataframe thead th {\n",
       "        text-align: right;\n",
       "    }\n",
       "</style>\n",
       "<table border=\"1\" class=\"dataframe\">\n",
       "  <thead>\n",
       "    <tr style=\"text-align: right;\">\n",
       "      <th></th>\n",
       "      <th>BHK_NO.</th>\n",
       "      <th>BHK_OR_RK</th>\n",
       "      <th>SQUARE_FT</th>\n",
       "      <th>7th Phase JP Nagar,Bangalore</th>\n",
       "      <th>Adajan,Surat</th>\n",
       "      <th>Ahinsa Khand 1,Ghaziabad</th>\n",
       "      <th>Ahinsa Khand 2,Ghaziabad</th>\n",
       "      <th>Ajmer Road,Jaipur</th>\n",
       "      <th>Akshaya Nagar,Bangalore</th>\n",
       "      <th>Alwar Bypass Road,Bhiwadi</th>\n",
       "      <th>...</th>\n",
       "      <th>Virar West,Lalitpur</th>\n",
       "      <th>Wadala,Mumbai</th>\n",
       "      <th>Wagholi,Pune</th>\n",
       "      <th>Wakad,Pune</th>\n",
       "      <th>Whitefield,Bangalore</th>\n",
       "      <th>Worli,Lalitpur</th>\n",
       "      <th>Yelahanka,Bangalore</th>\n",
       "      <th>Zirakpur,Chandigarh</th>\n",
       "      <th>Zirakpur,Mohali</th>\n",
       "      <th>sector-121 Noida,Noida</th>\n",
       "    </tr>\n",
       "  </thead>\n",
       "  <tbody>\n",
       "    <tr>\n",
       "      <th>0</th>\n",
       "      <td>3</td>\n",
       "      <td>0</td>\n",
       "      <td>2600.104004</td>\n",
       "      <td>0</td>\n",
       "      <td>0</td>\n",
       "      <td>0</td>\n",
       "      <td>0</td>\n",
       "      <td>0</td>\n",
       "      <td>0</td>\n",
       "      <td>0</td>\n",
       "      <td>...</td>\n",
       "      <td>0</td>\n",
       "      <td>0</td>\n",
       "      <td>0</td>\n",
       "      <td>0</td>\n",
       "      <td>0</td>\n",
       "      <td>0</td>\n",
       "      <td>0</td>\n",
       "      <td>0</td>\n",
       "      <td>0</td>\n",
       "      <td>0</td>\n",
       "    </tr>\n",
       "    <tr>\n",
       "      <th>1</th>\n",
       "      <td>3</td>\n",
       "      <td>0</td>\n",
       "      <td>2470.588235</td>\n",
       "      <td>0</td>\n",
       "      <td>0</td>\n",
       "      <td>0</td>\n",
       "      <td>0</td>\n",
       "      <td>0</td>\n",
       "      <td>0</td>\n",
       "      <td>0</td>\n",
       "      <td>...</td>\n",
       "      <td>0</td>\n",
       "      <td>0</td>\n",
       "      <td>0</td>\n",
       "      <td>0</td>\n",
       "      <td>0</td>\n",
       "      <td>0</td>\n",
       "      <td>0</td>\n",
       "      <td>0</td>\n",
       "      <td>0</td>\n",
       "      <td>0</td>\n",
       "    </tr>\n",
       "    <tr>\n",
       "      <th>2</th>\n",
       "      <td>2</td>\n",
       "      <td>0</td>\n",
       "      <td>1149.095088</td>\n",
       "      <td>0</td>\n",
       "      <td>0</td>\n",
       "      <td>0</td>\n",
       "      <td>0</td>\n",
       "      <td>0</td>\n",
       "      <td>0</td>\n",
       "      <td>0</td>\n",
       "      <td>...</td>\n",
       "      <td>0</td>\n",
       "      <td>0</td>\n",
       "      <td>0</td>\n",
       "      <td>0</td>\n",
       "      <td>0</td>\n",
       "      <td>0</td>\n",
       "      <td>0</td>\n",
       "      <td>0</td>\n",
       "      <td>0</td>\n",
       "      <td>0</td>\n",
       "    </tr>\n",
       "    <tr>\n",
       "      <th>3</th>\n",
       "      <td>3</td>\n",
       "      <td>0</td>\n",
       "      <td>3200.000000</td>\n",
       "      <td>0</td>\n",
       "      <td>0</td>\n",
       "      <td>0</td>\n",
       "      <td>0</td>\n",
       "      <td>0</td>\n",
       "      <td>0</td>\n",
       "      <td>0</td>\n",
       "      <td>...</td>\n",
       "      <td>0</td>\n",
       "      <td>0</td>\n",
       "      <td>0</td>\n",
       "      <td>0</td>\n",
       "      <td>0</td>\n",
       "      <td>0</td>\n",
       "      <td>0</td>\n",
       "      <td>0</td>\n",
       "      <td>0</td>\n",
       "      <td>0</td>\n",
       "    </tr>\n",
       "    <tr>\n",
       "      <th>4</th>\n",
       "      <td>3</td>\n",
       "      <td>0</td>\n",
       "      <td>2569.435948</td>\n",
       "      <td>0</td>\n",
       "      <td>0</td>\n",
       "      <td>0</td>\n",
       "      <td>0</td>\n",
       "      <td>0</td>\n",
       "      <td>0</td>\n",
       "      <td>0</td>\n",
       "      <td>...</td>\n",
       "      <td>0</td>\n",
       "      <td>0</td>\n",
       "      <td>0</td>\n",
       "      <td>0</td>\n",
       "      <td>0</td>\n",
       "      <td>0</td>\n",
       "      <td>0</td>\n",
       "      <td>0</td>\n",
       "      <td>0</td>\n",
       "      <td>0</td>\n",
       "    </tr>\n",
       "  </tbody>\n",
       "</table>\n",
       "<p>5 rows × 188 columns</p>\n",
       "</div>"
      ],
      "text/plain": [
       "   BHK_NO.  BHK_OR_RK    SQUARE_FT  7th Phase JP Nagar,Bangalore  \\\n",
       "0        3          0  2600.104004                             0   \n",
       "1        3          0  2470.588235                             0   \n",
       "2        2          0  1149.095088                             0   \n",
       "3        3          0  3200.000000                             0   \n",
       "4        3          0  2569.435948                             0   \n",
       "\n",
       "   Adajan,Surat  Ahinsa Khand 1,Ghaziabad  Ahinsa Khand 2,Ghaziabad  \\\n",
       "0             0                         0                         0   \n",
       "1             0                         0                         0   \n",
       "2             0                         0                         0   \n",
       "3             0                         0                         0   \n",
       "4             0                         0                         0   \n",
       "\n",
       "   Ajmer Road,Jaipur  Akshaya Nagar,Bangalore  Alwar Bypass Road,Bhiwadi  ...  \\\n",
       "0                  0                        0                          0  ...   \n",
       "1                  0                        0                          0  ...   \n",
       "2                  0                        0                          0  ...   \n",
       "3                  0                        0                          0  ...   \n",
       "4                  0                        0                          0  ...   \n",
       "\n",
       "   Virar West,Lalitpur  Wadala,Mumbai  Wagholi,Pune  Wakad,Pune  \\\n",
       "0                    0              0             0           0   \n",
       "1                    0              0             0           0   \n",
       "2                    0              0             0           0   \n",
       "3                    0              0             0           0   \n",
       "4                    0              0             0           0   \n",
       "\n",
       "   Whitefield,Bangalore  Worli,Lalitpur  Yelahanka,Bangalore  \\\n",
       "0                     0               0                    0   \n",
       "1                     0               0                    0   \n",
       "2                     0               0                    0   \n",
       "3                     0               0                    0   \n",
       "4                     0               0                    0   \n",
       "\n",
       "   Zirakpur,Chandigarh  Zirakpur,Mohali  sector-121 Noida,Noida  \n",
       "0                    0                0                       0  \n",
       "1                    0                0                       0  \n",
       "2                    0                0                       0  \n",
       "3                    0                0                       0  \n",
       "4                    0                0                       0  \n",
       "\n",
       "[5 rows x 188 columns]"
      ]
     },
     "execution_count": 46,
     "metadata": {},
     "output_type": "execute_result"
    }
   ],
   "source": [
    "X.head()"
   ]
  },
  {
   "cell_type": "code",
   "execution_count": 47,
   "metadata": {},
   "outputs": [
    {
     "data": {
      "text/plain": [
       "0    450.0\n",
       "1    420.0\n",
       "2    120.0\n",
       "3    460.0\n",
       "4    420.0\n",
       "Name: TARGET(PRICE_IN_LACS), dtype: float64"
      ]
     },
     "execution_count": 47,
     "metadata": {},
     "output_type": "execute_result"
    }
   ],
   "source": [
    "y=df4['TARGET(PRICE_IN_LACS)']\n",
    "y.head()"
   ]
  },
  {
   "cell_type": "code",
   "execution_count": 48,
   "metadata": {},
   "outputs": [],
   "source": [
    "from sklearn.model_selection import train_test_split"
   ]
  },
  {
   "cell_type": "code",
   "execution_count": 55,
   "metadata": {},
   "outputs": [],
   "source": [
    "X_train, X_test, y_train, y_test = train_test_split(X, y, test_size=0.2, random_state=10)"
   ]
  },
  {
   "cell_type": "code",
   "execution_count": 56,
   "metadata": {},
   "outputs": [
    {
     "data": {
      "text/plain": [
       "0.8526392624693463"
      ]
     },
     "execution_count": 56,
     "metadata": {},
     "output_type": "execute_result"
    }
   ],
   "source": [
    "from sklearn.linear_model import LinearRegression\n",
    "model = LinearRegression()\n",
    "model.fit(X_train,y_train)\n",
    "model.score(X_test,y_test)"
   ]
  },
  {
   "cell_type": "code",
   "execution_count": null,
   "metadata": {},
   "outputs": [],
   "source": []
  },
  {
   "cell_type": "code",
   "execution_count": null,
   "metadata": {},
   "outputs": [],
   "source": []
  }
 ],
 "metadata": {
  "kernelspec": {
   "display_name": "Python 3",
   "language": "python",
   "name": "python3"
  },
  "language_info": {
   "codemirror_mode": {
    "name": "ipython",
    "version": 3
   },
   "file_extension": ".py",
   "mimetype": "text/x-python",
   "name": "python",
   "nbconvert_exporter": "python",
   "pygments_lexer": "ipython3",
   "version": "3.8.5"
  }
 },
 "nbformat": 4,
 "nbformat_minor": 4
}
